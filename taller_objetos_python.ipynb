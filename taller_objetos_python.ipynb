{
 "cells": [
  {
   "cell_type": "markdown",
   "id": "a5155ff9",
   "metadata": {},
   "source": [
    "# Inteligencia artificial\n",
    "## Programación de objetos en Python\n",
    "### *Juan Diego Moreno Sánchez* \n",
    "1.  ¿Cuál de los siguientes NO es un tipo de objeto básico en Python?\n",
    "R// D, funcion matematica\n",
    "2.  En Python, los valores True y False pertenecen al tipo:\n",
    "R// B, Boleano\n",
    "3.  ¿Cuál de los siguientes objetos se considera un tipo numérico en Python?\n",
    "R// A, int, float y complex\n",
    "4.  ¿Qué imprime este código?"
   ]
  },
  {
   "cell_type": "code",
   "execution_count": null,
   "id": "225f8cab",
   "metadata": {},
   "outputs": [],
   "source": [
    "x = (1, 2, 3)\n",
    "print(x[1])"
   ]
  },
  {
   "cell_type": "markdown",
   "id": "a6e173e6",
   "metadata": {},
   "source": [
    "R// B"
   ]
  },
  {
   "cell_type": "markdown",
   "id": "8d766052",
   "metadata": {},
   "source": [
    "5.  ¿Cuál es el error en este código?"
   ]
  },
  {
   "cell_type": "code",
   "execution_count": null,
   "id": "f0b39223",
   "metadata": {},
   "outputs": [],
   "source": [
    "t = (1, 2, 3)\n",
    "t[0]=10"
   ]
  },
  {
   "cell_type": "markdown",
   "id": "210a509e",
   "metadata": {},
   "source": [
    "R// C, las tuplas son inmutables\n",
    "\n",
    "6.  ¿Qué resultado produce?"
   ]
  },
  {
   "cell_type": "code",
   "execution_count": null,
   "id": "6326dc87",
   "metadata": {},
   "outputs": [],
   "source": [
    "s = {1, 2, 2, 3, 3}\n",
    "print(s)"
   ]
  },
  {
   "cell_type": "markdown",
   "id": "715babdb",
   "metadata": {},
   "source": [
    "R// B, {1, 2, 3}\n",
    "\n",
    "7.  ¿Cuál es la salida?\n"
   ]
  },
  {
   "cell_type": "code",
   "execution_count": null,
   "id": "5d1b0854",
   "metadata": {},
   "outputs": [],
   "source": [
    "palabra = \"Mundo\"\n",
    "print(palabra[1:4])\n"
   ]
  },
  {
   "cell_type": "markdown",
   "id": "990f79bd",
   "metadata": {},
   "source": [
    "R// C, \"und\"\n",
    "\n",
    "8.  ¿Qué imprime?"
   ]
  },
  {
   "cell_type": "code",
   "execution_count": null,
   "id": "fbf2ac4d",
   "metadata": {},
   "outputs": [],
   "source": [
    "lista = [10, 20, 30]\n",
    "lista.append(40)\n",
    "print(lista)\n"
   ]
  },
  {
   "cell_type": "markdown",
   "id": "c1023ff9",
   "metadata": {},
   "source": [
    "R// B, [10, 20, 30, 40]\n",
    "\n",
    "9. ¿Qué ocurre?"
   ]
  },
  {
   "cell_type": "code",
   "execution_count": null,
   "id": "f099c3b0",
   "metadata": {},
   "outputs": [],
   "source": [
    "dic = {\"a\": 1, \"b\": 2}\n",
    "print(dic[\"c\"])\n",
    "#Llave C no existe "
   ]
  },
  {
   "cell_type": "markdown",
   "id": "5dc7b584",
   "metadata": {},
   "source": [
    "R// C, Error\n",
    "\n",
    "10.  Elige la opción correcta para obtener el valor 3 de este diccionario:"
   ]
  },
  {
   "cell_type": "code",
   "execution_count": null,
   "id": "854b2bda",
   "metadata": {},
   "outputs": [],
   "source": [
    "d = {\"x\": 1, \"y\": 2, \"z\": 3}\n",
    "d[\"z\"]"
   ]
  },
  {
   "cell_type": "markdown",
   "id": "dac55ac1",
   "metadata": {},
   "source": [
    "R// D, d[\"z\"]\n",
    "\n",
    "11.  ¿Qué devuelve este código?"
   ]
  },
  {
   "cell_type": "code",
   "execution_count": null,
   "id": "5c6d9d24",
   "metadata": {},
   "outputs": [],
   "source": [
    "print(type(3.0))"
   ]
  },
  {
   "cell_type": "markdown",
   "id": "14f6d19f",
   "metadata": {},
   "source": [
    "R// B, float\n",
    "\n",
    "12.  ¿Cuál es el resultado?\n"
   ]
  },
  {
   "cell_type": "code",
   "execution_count": null,
   "id": "f180c5c3",
   "metadata": {},
   "outputs": [],
   "source": [
    "x = [1, 2, 3]\n",
    "y = x\n",
    "y.append(4)\n",
    "print(x)\n"
   ]
  },
  {
   "cell_type": "markdown",
   "id": "f0e3ec82",
   "metadata": {},
   "source": [
    "R// B, [1, 2, 3, 4]\n",
    "\n",
    "13.  El valor de resultado será:"
   ]
  },
  {
   "cell_type": "code",
   "execution_count": null,
   "id": "0780f3a5",
   "metadata": {},
   "outputs": [],
   "source": [
    "numeros = [\"10\", \"20\", \"30\"]\n",
    "resultado = \",\".join(numeros)\n",
    "resultado"
   ]
  },
  {
   "cell_type": "markdown",
   "id": "c5c77860",
   "metadata": {},
   "source": [
    "R// B, '10,20,30'\n",
    "\n",
    "14.  Completa el código para convertir un conjunto a lista:"
   ]
  },
  {
   "cell_type": "code",
   "execution_count": null,
   "id": "d3aa1e07",
   "metadata": {},
   "outputs": [],
   "source": [
    "s = {1, 2, 3}\n",
    "list(s)\n",
    "s"
   ]
  },
  {
   "cell_type": "markdown",
   "id": "77b10dbf",
   "metadata": {},
   "source": [
    "R// A, list(s)\n",
    "\n",
    "15.  ¿Cuál es la salida?\n"
   ]
  },
  {
   "cell_type": "code",
   "execution_count": null,
   "id": "58bf11cd",
   "metadata": {},
   "outputs": [],
   "source": [
    "cadena = \"Hola\"\n",
    "print(cadena * 3)"
   ]
  },
  {
   "cell_type": "markdown",
   "id": "72bda7bc",
   "metadata": {},
   "source": [
    "R// B, \"HolaHolaHola\"\n",
    "\n",
    "16.  ¿Qué valor imprime?\n"
   ]
  },
  {
   "cell_type": "code",
   "execution_count": null,
   "id": "d1d04133",
   "metadata": {},
   "outputs": [],
   "source": [
    "lista = [10, 20, 30]\n",
    "print(lista[-1])"
   ]
  },
  {
   "cell_type": "markdown",
   "id": "e82908c0",
   "metadata": {},
   "source": [
    "R// C, 30\n",
    "\n",
    "17.  ¿Qué contendrá precios después de ejecutar el código?"
   ]
  },
  {
   "cell_type": "code",
   "execution_count": null,
   "id": "b880ea40",
   "metadata": {},
   "outputs": [],
   "source": [
    "precios = [1200, 500, 3400, 800]\n",
    "precios.sort()\n",
    "precios"
   ]
  },
  {
   "cell_type": "markdown",
   "id": "65f84fce",
   "metadata": {},
   "source": [
    "R// A,[500, 800, 1200, 3400]\n",
    "\n",
    "¿Cuál es el error?"
   ]
  },
  {
   "cell_type": "code",
   "execution_count": null,
   "id": "b7a02d02",
   "metadata": {},
   "outputs": [],
   "source": [
    "conjunto = {1, 2, 3}\n",
    "print(conjunto[0])\n",
    "#No tiene un orden\n"
   ]
  },
  {
   "cell_type": "markdown",
   "id": "b1cd3431",
   "metadata": {},
   "source": [
    "R//A, Los conjuntos no son indexables\n",
    "\n",
    "19.  ¿Qué devuelve?"
   ]
  },
  {
   "cell_type": "code",
   "execution_count": null,
   "id": "8fafd4e8",
   "metadata": {},
   "outputs": [],
   "source": [
    "len({\"a\": 1, \"b\": 2, \"c\": 3})\n"
   ]
  },
  {
   "cell_type": "markdown",
   "id": "c42ab8b0",
   "metadata": {},
   "source": [
    "R//B, 3\n",
    "\n",
    "20.  ¿Qué resultado da?"
   ]
  },
  {
   "cell_type": "code",
   "execution_count": null,
   "id": "2603f58d",
   "metadata": {},
   "outputs": [],
   "source": [
    "lista = [1, 2, 3]\n",
    "print(lista * 2)"
   ]
  },
  {
   "cell_type": "markdown",
   "id": "a28f8982",
   "metadata": {},
   "source": [
    "R// A, [1, 2, 3, 1, 2, 3]\n",
    "\n",
    "21.  ¿Qué ocurre?\n"
   ]
  },
  {
   "cell_type": "code",
   "execution_count": null,
   "id": "70250339",
   "metadata": {},
   "outputs": [],
   "source": [
    "d = {\"a\": 1}\n",
    "d[\"a\"] = 100\n",
    "print(d)\n"
   ]
  },
  {
   "cell_type": "markdown",
   "id": "2d44c720",
   "metadata": {},
   "source": [
    "R// B, {\"a\": 100}\n",
    "\n",
    "22.  ¿Qué imprime?\n"
   ]
  },
  {
   "cell_type": "code",
   "execution_count": null,
   "id": "5d522101",
   "metadata": {},
   "outputs": [],
   "source": [
    "print(\"python\".upper())"
   ]
  },
  {
   "cell_type": "markdown",
   "id": "ee06a3f8",
   "metadata": {},
   "source": [
    "R// A, PYTHON\n",
    "\n",
    "\n"
   ]
  },
  {
   "cell_type": "code",
   "execution_count": null,
   "id": "ea43cdc3",
   "metadata": {},
   "outputs": [],
   "source": [
    "s = {1, 2, 3}\n",
    "s.add(5)\n",
    "s\n"
   ]
  },
  {
   "cell_type": "markdown",
   "id": "c000388e",
   "metadata": {},
   "source": [
    "R//A, add\n",
    "\n",
    "24.  ¿Cuál es la salida?\n"
   ]
  },
  {
   "cell_type": "code",
   "execution_count": null,
   "id": "ac748719",
   "metadata": {},
   "outputs": [],
   "source": [
    "d = {\"x\": 10, \"y\": 20}\n",
    "print(\"x\" in d)\n"
   ]
  },
  {
   "cell_type": "markdown",
   "id": "81c90375",
   "metadata": {},
   "source": [
    "R// B,True\n",
    "\n",
    "25.  ¿Qué imprime?\n"
   ]
  },
  {
   "cell_type": "code",
   "execution_count": null,
   "id": "9b8cc7ea",
   "metadata": {},
   "outputs": [],
   "source": [
    "print([1, 2, 3] == [1, 2, 3])"
   ]
  },
  {
   "cell_type": "markdown",
   "id": "82cbdf6d",
   "metadata": {},
   "source": [
    "R//A, True\n",
    "\n",
    "26.  ¿Qué se imprimirá en pantalla?\n"
   ]
  },
  {
   "cell_type": "code",
   "execution_count": null,
   "id": "3dc3fdb4",
   "metadata": {},
   "outputs": [],
   "source": [
    "for i in range(5):\n",
    " print(i)\n",
    "#se le agrego\n"
   ]
  },
  {
   "cell_type": "markdown",
   "id": "51237344",
   "metadata": {},
   "source": [
    "R// C, 0 1 2 3 4\n",
    "\n",
    "27.  ¿Qué ocurre?\n"
   ]
  },
  {
   "cell_type": "code",
   "execution_count": null,
   "id": "eec805be",
   "metadata": {},
   "outputs": [],
   "source": [
    "s = {1, 2, 3}\n",
    "s.remove(4)\n",
    "#No existe el 4, remove 4"
   ]
  },
  {
   "cell_type": "markdown",
   "id": "c0440836",
   "metadata": {},
   "source": [
    "R//C, Lanza un error\n",
    "\n",
    "28.  ¿Qué contendrá la variable paises?\n"
   ]
  },
  {
   "cell_type": "code",
   "execution_count": null,
   "id": "46dadd9a",
   "metadata": {},
   "outputs": [],
   "source": [
    "texto = \"Colombia México Perú Chile\"\n",
    "paises = texto.split()\n",
    "paises"
   ]
  },
  {
   "cell_type": "markdown",
   "id": "b26d1587",
   "metadata": {},
   "source": [
    "R// B, [\"Colombia\", \"México\", \"Perú\", \"Chile\"]\n",
    "\n",
    "29.  ¿Qué resultado produce valores?"
   ]
  },
  {
   "cell_type": "code",
   "execution_count": null,
   "id": "5aa18318",
   "metadata": {},
   "outputs": [],
   "source": [
    "ventas = \"1000;2500;3200;4500\"\n",
    "valores = ventas.split(\";\")\n",
    "valores\n"
   ]
  },
  {
   "cell_type": "markdown",
   "id": "63926ad9",
   "metadata": {},
   "source": [
    "R// A,[\"1000\", \"2500\", \"3200\", \"4500\"]\n",
    "\n",
    "31.  ¿Qué contendrá empresas después de ejecutar el código?"
   ]
  },
  {
   "cell_type": "code",
   "execution_count": null,
   "id": "8a0dc187",
   "metadata": {},
   "outputs": [],
   "source": [
    "empresas = [\"Amazon\", \"Google\", \"Microsoft\", \"Apple\"]\n",
    "empresas.sort()\n",
    "print(empresas)\n"
   ]
  },
  {
   "cell_type": "markdown",
   "id": "05cd16f7",
   "metadata": {},
   "source": [
    "Ninguna es correcta, es ['Amazon', 'Apple', 'Google', 'Microsoft']\n",
    "pero la mas cercana es A\n",
    "\n",
    "32.  ¿Qué contendrá la lista numeros?\n"
   ]
  },
  {
   "cell_type": "code",
   "execution_count": null,
   "id": "6e8cfa27",
   "metadata": {},
   "outputs": [],
   "source": [
    "numeros = list(range(2, 10, 2))\n",
    "numeros"
   ]
  },
  {
   "cell_type": "markdown",
   "id": "94dcfd8a",
   "metadata": {},
   "source": [
    "R// A, [2, 4, 6, 8]\n",
    "\n",
    "### Gracias"
   ]
  }
 ],
 "metadata": {
  "language_info": {
   "name": "python"
  }
 },
 "nbformat": 4,
 "nbformat_minor": 5
}
